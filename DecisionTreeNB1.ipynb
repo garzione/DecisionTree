{
 "cells": [
  {
   "cell_type": "code",
   "execution_count": 17,
   "metadata": {},
   "outputs": [],
   "source": [
    "#Justin Garzione\n",
    "#Copyright MIT License\n",
    "#Decision Tree -> Continuous Variables"
   ]
  },
  {
   "cell_type": "code",
   "execution_count": 18,
   "metadata": {},
   "outputs": [],
   "source": [
    "import sys\n",
    "import math"
   ]
  },
  {
   "cell_type": "code",
   "execution_count": 19,
   "metadata": {},
   "outputs": [],
   "source": [
    "#DEBUGGING MODULE\n",
    "\n",
    "#Input 21\n",
    "f = open(\"/Users/justingarzione/Documents/Data Mining/Exam 3/tutorials-master/dt_debug_testcases/input21.txt\", \"r\")\n",
    "f1 = open(\"/Users/justingarzione/Documents/Data Mining/Exam 3/tutorials-master/dt_debug_testcases/output21.txt\", \"r\")\n",
    "\n",
    "#Input 22\n",
    "g = open(\"/Users/justingarzione/Documents/Data Mining/Exam 3/tutorials-master/dt_debug_testcases/input22.txt\", \"r\")\n",
    "g1 = open(\"/Users/justingarzione/Documents/Data Mining/Exam 3/tutorials-master/dt_debug_testcases/output22.txt\", \"r\")\n",
    "\n",
    "#Input 23\n",
    "h = open(\"/Users/justingarzione/Documents/Data Mining/Exam 3/tutorials-master/dt_debug_testcases/input23.txt\", \"r\")\n",
    "h1 = open(\"/Users/justingarzione/Documents/Data Mining/Exam 3/tutorials-master/dt_debug_testcases/output23.txt\", \"r\")\n",
    "\n",
    "#Input 24\n",
    "i = open(\"/Users/justingarzione/Documents/Data Mining/Exam 3/tutorials-master/dt_debug_testcases/input24.txt\", \"r\")\n",
    "i1 = open(\"/Users/justingarzione/Documents/Data Mining/Exam 3/tutorials-master/dt_debug_testcases/output24.txt\", \"r\")"
   ]
  },
  {
   "cell_type": "code",
   "execution_count": 20,
   "metadata": {},
   "outputs": [
    {
     "name": "stdout",
     "output_type": "stream",
     "text": [
      "CPU times: user 6 µs, sys: 1 µs, total: 7 µs\n",
      "Wall time: 10 µs\n"
     ]
    }
   ],
   "source": [
    "%%time\n",
    "def read_ans(x):\n",
    "    Lines = x.readlines()\n",
    "    out = []\n",
    "    for line in Lines:\n",
    "        out.append(int(line.strip()))\n",
    "    return out"
   ]
  },
  {
   "cell_type": "code",
   "execution_count": 21,
   "metadata": {},
   "outputs": [
    {
     "name": "stdout",
     "output_type": "stream",
     "text": [
      "CPU times: user 6 µs, sys: 1 µs, total: 7 µs\n",
      "Wall time: 11.2 µs\n"
     ]
    }
   ],
   "source": [
    "%%time\n",
    "def read_data(data):\n",
    "    attribute_list = []\n",
    "    attribute_list.append(\"Labels\")\n",
    "    attribute_index = 0\n",
    "    training_data = []\n",
    "    testing_data = []\n",
    "    for current_line in data:\n",
    "        temp = current_line.strip('\\n').split(' ')\n",
    "        line_list = []\n",
    "        line_list.append(int(temp[0]))\n",
    "        for element in range(1,len(temp)):\n",
    "            if \":\" in temp[element]:\n",
    "                colon_index = temp[element].index(\":\")\n",
    "                \n",
    "                if attribute_index < len(temp)-1:\n",
    "                    attribute = int(temp[element][0:colon_index])\n",
    "                    attribute_list.append(attribute)\n",
    "                    attribute_index+=1\n",
    "                \n",
    "                value = float(temp[element][colon_index+1:])\n",
    "                line_list.append(value)\n",
    "                \n",
    "        if line_list[0] == -1:\n",
    "            testing_data.append(tuple(line_list))\n",
    "            \n",
    "        else:\n",
    "            training_data.append(tuple(line_list))\n",
    "    \n",
    "    attribute_data = tuple(attribute_list)\n",
    "    return training_data, testing_data, attribute_data"
   ]
  },
  {
   "cell_type": "code",
   "execution_count": 22,
   "metadata": {},
   "outputs": [
    {
     "name": "stdout",
     "output_type": "stream",
     "text": [
      "CPU times: user 9 µs, sys: 1 µs, total: 10 µs\n",
      "Wall time: 15.3 µs\n"
     ]
    }
   ],
   "source": [
    "%%time\n",
    "def class_counts(rows):\n",
    "    counts = {}\n",
    "    highest_key = 0\n",
    "    for row in rows:\n",
    "        label = row[0]\n",
    "        if label not in counts:\n",
    "            counts[label] = 0\n",
    "        counts[label] += 1\n",
    "    for element in counts.keys():\n",
    "        if counts[element] > highest_key:\n",
    "            highest_key = element\n",
    "    \n",
    "    return counts,highest_key"
   ]
  },
  {
   "cell_type": "code",
   "execution_count": 23,
   "metadata": {},
   "outputs": [
    {
     "name": "stdout",
     "output_type": "stream",
     "text": [
      "CPU times: user 5 µs, sys: 0 ns, total: 5 µs\n",
      "Wall time: 8.11 µs\n"
     ]
    }
   ],
   "source": [
    "%%time\n",
    "def get_info(data,column=0):\n",
    "    denom = len(data)\n",
    "    info_dict = dict()\n",
    "    info = 0\n",
    "    for row in data:\n",
    "        if row[0] not in info_dict.keys():\n",
    "            info_dict[row[column]] = 0\n",
    "        info_dict[row[column]] += 1\n",
    "        \n",
    "    for val in info_dict.values():\n",
    "        info += -(val/denom) * math.log(val/denom,2)\n",
    "    return info"
   ]
  },
  {
   "cell_type": "code",
   "execution_count": 24,
   "metadata": {},
   "outputs": [
    {
     "name": "stdout",
     "output_type": "stream",
     "text": [
      "CPU times: user 5 µs, sys: 0 ns, total: 5 µs\n",
      "Wall time: 7.87 µs\n"
     ]
    }
   ],
   "source": [
    "%%time\n",
    "def attribute_info(split_points,training_data,column,attribute_data,dataset_info):\n",
    "    best_gain = 0\n",
    "    best_split_point = 0\n",
    "    lowest_attribute = 0\n",
    "    best_less_than = []\n",
    "    best_more_than = []\n",
    "    for point in split_points:\n",
    "        less_than = []\n",
    "        more_than = []\n",
    "        for row in training_data:\n",
    "            if row[column] <= point:\n",
    "                less_than.append(row)\n",
    "            else:\n",
    "                more_than.append(row)\n",
    "        \n",
    "        weight_left = len(less_than)\n",
    "        info_left = get_info(less_than)\n",
    "        weight_right = len(more_than)\n",
    "        info_right = get_info(more_than)\n",
    "        denom = weight_left + weight_right\n",
    "\n",
    "        split_info = ((weight_left/denom)*info_left) + ((weight_right/denom)*info_right)\n",
    "        gain = dataset_info - split_info \n",
    "        \n",
    "        if gain > best_gain or (gain == best_gain and attribute_data[column] < lowest_attribute):\n",
    "                                best_gain = gain\n",
    "                                lowest_attribute = attribute_data[column]\n",
    "                                best_less_than = less_than\n",
    "                                best_more_than = more_than\n",
    "                                best_split_point = point\n",
    "    return best_gain,best_less_than,best_more_than,lowest_attribute,best_split_point"
   ]
  },
  {
   "cell_type": "code",
   "execution_count": 25,
   "metadata": {},
   "outputs": [
    {
     "name": "stdout",
     "output_type": "stream",
     "text": [
      "CPU times: user 7 µs, sys: 9 µs, total: 16 µs\n",
      "Wall time: 17.9 µs\n"
     ]
    }
   ],
   "source": [
    "%%time\n",
    "def find_best_split(training_data):\n",
    "    dataset_info_ = get_info(training_data)\n",
    "    split_points = []\n",
    "    best_gain = 0\n",
    "    best_point = 0\n",
    "    best_true_rows = []\n",
    "    best_false_rows = []\n",
    "    lowest_attribute = 0\n",
    "    best_question = Question(0,0)\n",
    "    #Sort the attribute/value in increasing order\n",
    "    for column in range(1,len(training_data[0])):\n",
    "        training_data.sort(key=lambda pair: pair[column])\n",
    "\n",
    "        #Get a list of possible split points\n",
    "        for row in range(0,len(training_data)-1):\n",
    "            col_midpoint = ((training_data[row][column] + training_data[row+1][column]) / 2)\n",
    "            split_points.append(col_midpoint)\n",
    "\n",
    "        #Call Information Gain Function\n",
    "        gain,less_than,more_than,low_attribute,point  = attribute_info(split_points,training_data,column,attribute_data,dataset_info_)\n",
    "        if gain > best_gain or (gain == best_gain and low_attribute < lowest_attribute):\n",
    "            best_gain = gain\n",
    "            best_true_rows = less_than\n",
    "            best_false_rows = more_than\n",
    "            lowest_attribute = low_attribute\n",
    "            best_point = point\n",
    "            best_question = Question(column,best_point)\n",
    "\n",
    "        split_points = []\n",
    "\n",
    "    return best_gain,best_question,best_true_rows,best_false_rows "
   ]
  },
  {
   "cell_type": "code",
   "execution_count": 26,
   "metadata": {},
   "outputs": [
    {
     "name": "stdout",
     "output_type": "stream",
     "text": [
      "CPU times: user 21 µs, sys: 0 ns, total: 21 µs\n",
      "Wall time: 23.8 µs\n"
     ]
    }
   ],
   "source": [
    "%%time\n",
    "class Question:\n",
    "    \n",
    "    def __init__(self,column,value):\n",
    "        self.column = column\n",
    "        self.value = value\n",
    "        \n",
    "    def match(self, example):\n",
    "        val = example[self.column]\n",
    "        return val <= self.value\n",
    "    "
   ]
  },
  {
   "cell_type": "code",
   "execution_count": 27,
   "metadata": {},
   "outputs": [
    {
     "name": "stdout",
     "output_type": "stream",
     "text": [
      "CPU times: user 30 µs, sys: 1 µs, total: 31 µs\n",
      "Wall time: 35 µs\n"
     ]
    }
   ],
   "source": [
    "%%time\n",
    "class Leaf:\n",
    "    def __init__(self,rows):\n",
    "        self.predictions, self.win = class_counts(rows)"
   ]
  },
  {
   "cell_type": "code",
   "execution_count": 28,
   "metadata": {},
   "outputs": [
    {
     "name": "stdout",
     "output_type": "stream",
     "text": [
      "CPU times: user 32 µs, sys: 0 ns, total: 32 µs\n",
      "Wall time: 36 µs\n"
     ]
    }
   ],
   "source": [
    "%%time\n",
    "class Decision_Node:\n",
    "    def __init__(self,question,true_branch,false_branch):\n",
    "        self.question = question\n",
    "        self.true_branch = true_branch\n",
    "        self.false_branch = false_branch"
   ]
  },
  {
   "cell_type": "code",
   "execution_count": 29,
   "metadata": {},
   "outputs": [
    {
     "name": "stdout",
     "output_type": "stream",
     "text": [
      "CPU times: user 6 µs, sys: 13 µs, total: 19 µs\n",
      "Wall time: 21.9 µs\n"
     ]
    }
   ],
   "source": [
    "%%time\n",
    "def build_tree(rows,depth):\n",
    "    \n",
    "    gain, question,true_rows,false_rows = find_best_split(rows)\n",
    "    \n",
    "    if gain == 0 or depth == 2:\n",
    "        return Leaf(rows)\n",
    "    \n",
    "    true_branch = build_tree(true_rows,depth+1)\n",
    "    false_branch = build_tree(false_rows,depth+1)\n",
    "    \n",
    "    return Decision_Node(question,true_branch,false_branch)"
   ]
  },
  {
   "cell_type": "code",
   "execution_count": 30,
   "metadata": {},
   "outputs": [
    {
     "name": "stdout",
     "output_type": "stream",
     "text": [
      "CPU times: user 13 µs, sys: 1 µs, total: 14 µs\n",
      "Wall time: 18.8 µs\n"
     ]
    }
   ],
   "source": [
    "%%time\n",
    "def classify(row,node):\n",
    "    \n",
    "    if isinstance(node,Leaf):\n",
    "        return node.predictions\n",
    "    \n",
    "    if node.question.match(row):\n",
    "        return classify(row,node.true_branch)\n",
    "    else:\n",
    "        return classify(row,node.false_branch)"
   ]
  },
  {
   "cell_type": "code",
   "execution_count": 31,
   "metadata": {},
   "outputs": [
    {
     "name": "stdout",
     "output_type": "stream",
     "text": [
      "CPU times: user 14 µs, sys: 11 µs, total: 25 µs\n",
      "Wall time: 148 µs\n"
     ]
    }
   ],
   "source": [
    "%%time\n",
    "def print_leaf(counts):\n",
    "    total = sum(counts.values()) * 1.0\n",
    "    probs = {}\n",
    "    highest_prob = 0\n",
    "    highest_key = 0\n",
    "    for lbl in counts.keys():\n",
    "        probs[lbl] = float(int(counts[lbl] / total * 100))\n",
    "        if probs[lbl] > highest_prob or (probs[lbl] == highest_prob and lbl < highest_key):\n",
    "            highest_prob = probs[lbl]\n",
    "            highest_key = lbl\n",
    "\n",
    "    return highest_key"
   ]
  },
  {
   "cell_type": "code",
   "execution_count": 32,
   "metadata": {},
   "outputs": [
    {
     "name": "stdout",
     "output_type": "stream",
     "text": [
      "Model: [3, 1, 3, 3, 1, 1, 1, 1, 4, 1, 3, 4, 3, 1, 4, 1, 3, 3, 3, 4]\n",
      "Correct: [3, 1, 3, 3, 1, 1, 1, 1, 4, 1, 3, 4, 3, 1, 4, 1, 3, 3, 3, 4]\n",
      "[ True  True  True  True  True  True  True  True  True  True  True  True\n",
      "  True  True  True  True  True  True  True  True]\n",
      "CPU times: user 16.4 ms, sys: 3.07 ms, total: 19.5 ms\n",
      "Wall time: 19.5 ms\n"
     ]
    }
   ],
   "source": [
    "%%time\n",
    "training_data, testing_data, attribute_data = read_data(i)\n",
    "my_tree = build_tree(training_data,depth=0)\n",
    "\n",
    "my_ans = []\n",
    "for row in testing_data:\n",
    "           my_ans.append(print_leaf(classify(row, my_tree)))\n",
    "\n",
    "correct = read_ans(i1)\n",
    "print(f\"Model: {my_ans}\")\n",
    "print(f\"Correct: {correct}\")\n",
    "print(np.array(my_ans) == np.array(correct))\n"
   ]
  }
 ],
 "metadata": {
  "kernelspec": {
   "display_name": "Python 3",
   "language": "python",
   "name": "python3"
  },
  "language_info": {
   "codemirror_mode": {
    "name": "ipython",
    "version": 3
   },
   "file_extension": ".py",
   "mimetype": "text/x-python",
   "name": "python",
   "nbconvert_exporter": "python",
   "pygments_lexer": "ipython3",
   "version": "3.8.5"
  }
 },
 "nbformat": 4,
 "nbformat_minor": 4
}
